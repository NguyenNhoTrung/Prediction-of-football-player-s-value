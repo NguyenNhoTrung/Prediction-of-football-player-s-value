{
 "cells": [
  {
   "cell_type": "markdown",
   "metadata": {
    "id": "RixLZhzwl_7J"
   },
   "source": [
    "# **1.Import libraby and data**"
   ]
  },
  {
   "cell_type": "code",
   "execution_count": null,
   "metadata": {
    "colab": {
     "base_uri": "https://localhost:8080/"
    },
    "executionInfo": {
     "elapsed": 1294,
     "status": "ok",
     "timestamp": 1658052935756,
     "user": {
      "displayName": "trung nguyen nho",
      "userId": "16795874157616798231"
     },
     "user_tz": -420
    },
    "id": "0LzoEhDCmBWU",
    "outputId": "37d7b271-870f-4661-9758-2a6e96fb7e3a"
   },
   "outputs": [
    {
     "name": "stdout",
     "output_type": "stream",
     "text": [
      "(2976, 46)\n",
      "(2921, 143)\n"
     ]
    }
   ],
   "source": [
    "import pandas as pd\n",
    "index = pd.read_csv(\"/content/drive/MyDrive/Colab Notebooks/machine learning project/player_index.csv\")\n",
    "sta = pd.read_csv(\"/content/drive/MyDrive/Colab Notebooks/machine learning project/2021-2022 Football Player Stats.csv\",\n",
    "                sep = ';', encoding = 'latin1')\n",
    "print(index.shape)\n",
    "print(sta.shape)"
   ]
  },
  {
   "cell_type": "markdown",
   "metadata": {
    "id": "qRCpX7U6m68V"
   },
   "source": [
    "# **2.Remove duplicated records**"
   ]
  },
  {
   "cell_type": "markdown",
   "metadata": {
    "id": "xH20VEzanDPV"
   },
   "source": [
    "## a.2021-2022 Football Player Stats.csv"
   ]
  },
  {
   "cell_type": "code",
   "execution_count": null,
   "metadata": {
    "id": "T4_6blGbnDgd"
   },
   "outputs": [],
   "source": [
    "player = sta['Player'].unique()\n",
    "player_boolean = [True]* len(player)\n",
    "sta_boolean = [0] * len(sta['Player'])\n",
    "for i in range(len(sta['Player'])):\n",
    "    for j in range(len(player)):\n",
    "        if sta['Player'][i] == player[j] and  player_boolean[j] == True:\n",
    "            player_boolean[j] = False\n",
    "            sta_boolean[i] = 1\n",
    "\n",
    "sta['bool'] = sta_boolean\n",
    "sta = sta[sta['bool'] == 1]"
   ]
  },
  {
   "cell_type": "markdown",
   "metadata": {
    "id": "HHbgmqBXnLyA"
   },
   "source": [
    "=> we can see that : 136 duplicated records removed in 2021-2022 Football Player Stats.csv"
   ]
  },
  {
   "cell_type": "code",
   "execution_count": null,
   "metadata": {
    "colab": {
     "base_uri": "https://localhost:8080/"
    },
    "executionInfo": {
     "elapsed": 17,
     "status": "ok",
     "timestamp": 1658052990764,
     "user": {
      "displayName": "trung nguyen nho",
      "userId": "16795874157616798231"
     },
     "user_tz": -420
    },
    "id": "HeaXFRMUnNfb",
    "outputId": "24dd3cd0-9597-43c0-88e5-fffc3e156ed0"
   },
   "outputs": [
    {
     "data": {
      "text/plain": [
       "(2786, 144)"
      ]
     },
     "execution_count": 3,
     "metadata": {},
     "output_type": "execute_result"
    }
   ],
   "source": [
    "sta.shape"
   ]
  },
  {
   "cell_type": "markdown",
   "metadata": {
    "id": "q5bTifWznXTH"
   },
   "source": [
    "## b.player_index.csv"
   ]
  },
  {
   "cell_type": "code",
   "execution_count": null,
   "metadata": {
    "colab": {
     "base_uri": "https://localhost:8080/"
    },
    "executionInfo": {
     "elapsed": 6,
     "status": "ok",
     "timestamp": 1658052990764,
     "user": {
      "displayName": "trung nguyen nho",
      "userId": "16795874157616798231"
     },
     "user_tz": -420
    },
    "id": "XCHG6poSnXkZ",
    "outputId": "7e3c59b9-76f4-4172-cd40-ad4258d321e7"
   },
   "outputs": [
    {
     "name": "stdout",
     "output_type": "stream",
     "text": [
      "(2974, 46)\n"
     ]
    }
   ],
   "source": [
    "index = index.drop_duplicates(subset=[\"name\"], keep=False)\n",
    "print(index.shape)"
   ]
  },
  {
   "cell_type": "markdown",
   "metadata": {
    "id": "ow_YuTGonbrv"
   },
   "source": [
    "=> we removed 2 duplicated records "
   ]
  },
  {
   "cell_type": "markdown",
   "metadata": {
    "id": "ejn6_lyHnhi7"
   },
   "source": [
    "# **3.Join 2 tables based on player's name in 2 tables**"
   ]
  },
  {
   "cell_type": "markdown",
   "metadata": {
    "id": "8J9AAOx-nm0B"
   },
   "source": [
    "## a.Idea based on full name"
   ]
  },
  {
   "cell_type": "markdown",
   "metadata": {
    "id": "apM4F_bAn5q_"
   },
   "source": [
    "Idea 2 full names taken from 2 tables are the same: if we have at least 2 similar words in any 2 full names of 2 tables, then those 2 full names are the full name of 1 player"
   ]
  },
  {
   "cell_type": "code",
   "execution_count": null,
   "metadata": {
    "id": "8RO-esXTn7v0"
   },
   "outputs": [],
   "source": [
    "# list of full names are the same in 2 tables\n",
    "name_sta = []\n",
    "name_index = []\n",
    "for i in index['name']:\n",
    "    for j in sta['Player']:\n",
    "        name1 = i.strip().split(' ')\n",
    "        name2 = j.strip().split(' ')\n",
    "        count = 0\n",
    "        for a in name1:\n",
    "            if a in name2:\n",
    "                count = count + 1\n",
    "        if (count > 1 ):\n",
    "            name_sta.append(j)\n",
    "            name_index.append(i)          "
   ]
  },
  {
   "cell_type": "code",
   "execution_count": null,
   "metadata": {
    "id": "2ozMC7pLoDoQ"
   },
   "outputs": [],
   "source": [
    "# we remove full names in 2021-2022 Football Player Stats that don't exist in list of full names above\n",
    "count_sta =[]\n",
    "for i in sta['Player']:\n",
    "    if i in name_sta:\n",
    "        count_sta.append(name_sta.index(i))\n",
    "    else:\n",
    "        count_sta.append(0)\n",
    "sta['count'] = count_sta\n",
    "sta = sta[sta['count'] != 0 ]   "
   ]
  },
  {
   "cell_type": "code",
   "execution_count": null,
   "metadata": {
    "id": "OHmjqraToJ67"
   },
   "outputs": [],
   "source": [
    "# we remove full names in player_index.csv that don't exist in list of full names above\n",
    "count_index = []\n",
    "for i in index['name']:\n",
    "    if i in name_index:\n",
    "        count_index.append(name_index.index(i))\n",
    "    else:\n",
    "        count_index.append(0)\n",
    "index['count'] = count_index\n",
    "index = index[index['count'] != 0 ]\n"
   ]
  },
  {
   "cell_type": "markdown",
   "metadata": {
    "id": "db8ZT3xhoegC"
   },
   "source": [
    "## b. Select attributes of two tables that are related to player values"
   ]
  },
  {
   "cell_type": "code",
   "execution_count": null,
   "metadata": {
    "id": "CmjNob99ofcG"
   },
   "outputs": [],
   "source": [
    "data_sta = sta[['Player', 'MP', 'Min', 'Goals', 'Assists', 'CrdY', 'CrdR','count','Comp','Shots',]]\n",
    "\n",
    "data_index = index.copy()"
   ]
  },
  {
   "cell_type": "markdown",
   "metadata": {
    "id": "EZgXhmFCokk0"
   },
   "source": [
    "## c.Combine 2 tables"
   ]
  },
  {
   "cell_type": "code",
   "execution_count": null,
   "metadata": {
    "colab": {
     "base_uri": "https://localhost:8080/",
     "height": 404
    },
    "executionInfo": {
     "elapsed": 17,
     "status": "ok",
     "timestamp": 1658053001893,
     "user": {
      "displayName": "trung nguyen nho",
      "userId": "16795874157616798231"
     },
     "user_tz": -420
    },
    "id": "jFnovbWUomwn",
    "outputId": "b5efac03-8775-4090-b76f-dd14adb6d4c4"
   },
   "outputs": [
    {
     "data": {
      "text/html": [
       "\n",
       "  <div id=\"df-cf716883-2492-4c91-9717-7460b6450415\">\n",
       "    <div class=\"colab-df-container\">\n",
       "      <div>\n",
       "<style scoped>\n",
       "    .dataframe tbody tr th:only-of-type {\n",
       "        vertical-align: middle;\n",
       "    }\n",
       "\n",
       "    .dataframe tbody tr th {\n",
       "        vertical-align: top;\n",
       "    }\n",
       "\n",
       "    .dataframe thead th {\n",
       "        text-align: right;\n",
       "    }\n",
       "</style>\n",
       "<table border=\"1\" class=\"dataframe\">\n",
       "  <thead>\n",
       "    <tr style=\"text-align: right;\">\n",
       "      <th></th>\n",
       "      <th>Player</th>\n",
       "      <th>MP</th>\n",
       "      <th>Min</th>\n",
       "      <th>Goals</th>\n",
       "      <th>Assists</th>\n",
       "      <th>CrdY</th>\n",
       "      <th>CrdR</th>\n",
       "      <th>count</th>\n",
       "      <th>Comp</th>\n",
       "      <th>Shots</th>\n",
       "      <th>...</th>\n",
       "      <th>age</th>\n",
       "      <th>best_position</th>\n",
       "      <th>club</th>\n",
       "      <th>name</th>\n",
       "      <th>overall</th>\n",
       "      <th>position</th>\n",
       "      <th>potential</th>\n",
       "      <th>preferred_foot</th>\n",
       "      <th>value</th>\n",
       "      <th>wage</th>\n",
       "    </tr>\n",
       "  </thead>\n",
       "  <tbody>\n",
       "    <tr>\n",
       "      <th>0</th>\n",
       "      <td>Yunis Abdelhamid</td>\n",
       "      <td>34</td>\n",
       "      <td>2983</td>\n",
       "      <td>0.06</td>\n",
       "      <td>0.00</td>\n",
       "      <td>0.15</td>\n",
       "      <td>0.03</td>\n",
       "      <td>253</td>\n",
       "      <td>Ligue 1</td>\n",
       "      <td>0.54</td>\n",
       "      <td>...</td>\n",
       "      <td>33</td>\n",
       "      <td>CB</td>\n",
       "      <td>Stade de Reims</td>\n",
       "      <td>Yunis Abdelhamid</td>\n",
       "      <td>76</td>\n",
       "      <td>LCB</td>\n",
       "      <td>76</td>\n",
       "      <td>Left</td>\n",
       "      <td>€3.6M</td>\n",
       "      <td>€23K</td>\n",
       "    </tr>\n",
       "    <tr>\n",
       "      <th>1</th>\n",
       "      <td>Salis Abdul Samed</td>\n",
       "      <td>31</td>\n",
       "      <td>2462</td>\n",
       "      <td>0.04</td>\n",
       "      <td>0.00</td>\n",
       "      <td>0.44</td>\n",
       "      <td>0.11</td>\n",
       "      <td>1065</td>\n",
       "      <td>Ligue 1</td>\n",
       "      <td>0.66</td>\n",
       "      <td>...</td>\n",
       "      <td>21</td>\n",
       "      <td>CDM</td>\n",
       "      <td>Clermont Foot 63</td>\n",
       "      <td>Salis Abdul Samed</td>\n",
       "      <td>70</td>\n",
       "      <td>SUB</td>\n",
       "      <td>75</td>\n",
       "      <td>Right</td>\n",
       "      <td>€2.2M</td>\n",
       "      <td>€7K</td>\n",
       "    </tr>\n",
       "    <tr>\n",
       "      <th>2</th>\n",
       "      <td>Laurent Abergel</td>\n",
       "      <td>34</td>\n",
       "      <td>2956</td>\n",
       "      <td>0.00</td>\n",
       "      <td>0.06</td>\n",
       "      <td>0.27</td>\n",
       "      <td>0.00</td>\n",
       "      <td>25</td>\n",
       "      <td>Ligue 1</td>\n",
       "      <td>0.91</td>\n",
       "      <td>...</td>\n",
       "      <td>28</td>\n",
       "      <td>CDM</td>\n",
       "      <td>FC Lorient</td>\n",
       "      <td>Laurent Abergel</td>\n",
       "      <td>75</td>\n",
       "      <td>CDM</td>\n",
       "      <td>75</td>\n",
       "      <td>Right</td>\n",
       "      <td>€4.9M</td>\n",
       "      <td>€18K</td>\n",
       "    </tr>\n",
       "    <tr>\n",
       "      <th>3</th>\n",
       "      <td>Dickson Abiama</td>\n",
       "      <td>24</td>\n",
       "      <td>726</td>\n",
       "      <td>0.00</td>\n",
       "      <td>0.12</td>\n",
       "      <td>0.37</td>\n",
       "      <td>0.00</td>\n",
       "      <td>1937</td>\n",
       "      <td>Bundesliga</td>\n",
       "      <td>2.22</td>\n",
       "      <td>...</td>\n",
       "      <td>22</td>\n",
       "      <td>ST</td>\n",
       "      <td>SpVgg Greuther Fürth</td>\n",
       "      <td>Dickson Abiama</td>\n",
       "      <td>68</td>\n",
       "      <td>SUB</td>\n",
       "      <td>76</td>\n",
       "      <td>Right</td>\n",
       "      <td>€2.7M</td>\n",
       "      <td>€9K</td>\n",
       "    </tr>\n",
       "    <tr>\n",
       "      <th>4</th>\n",
       "      <td>Francesco Acerbi</td>\n",
       "      <td>30</td>\n",
       "      <td>2536</td>\n",
       "      <td>0.14</td>\n",
       "      <td>0.00</td>\n",
       "      <td>0.07</td>\n",
       "      <td>0.04</td>\n",
       "      <td>941</td>\n",
       "      <td>Serie A</td>\n",
       "      <td>0.57</td>\n",
       "      <td>...</td>\n",
       "      <td>33</td>\n",
       "      <td>CB</td>\n",
       "      <td>Lazio</td>\n",
       "      <td>Francesco Acerbi</td>\n",
       "      <td>83</td>\n",
       "      <td>LCB</td>\n",
       "      <td>83</td>\n",
       "      <td>Left</td>\n",
       "      <td>€17.5M</td>\n",
       "      <td>€75K</td>\n",
       "    </tr>\n",
       "  </tbody>\n",
       "</table>\n",
       "<p>5 rows × 56 columns</p>\n",
       "</div>\n",
       "      <button class=\"colab-df-convert\" onclick=\"convertToInteractive('df-cf716883-2492-4c91-9717-7460b6450415')\"\n",
       "              title=\"Convert this dataframe to an interactive table.\"\n",
       "              style=\"display:none;\">\n",
       "        \n",
       "  <svg xmlns=\"http://www.w3.org/2000/svg\" height=\"24px\"viewBox=\"0 0 24 24\"\n",
       "       width=\"24px\">\n",
       "    <path d=\"M0 0h24v24H0V0z\" fill=\"none\"/>\n",
       "    <path d=\"M18.56 5.44l.94 2.06.94-2.06 2.06-.94-2.06-.94-.94-2.06-.94 2.06-2.06.94zm-11 1L8.5 8.5l.94-2.06 2.06-.94-2.06-.94L8.5 2.5l-.94 2.06-2.06.94zm10 10l.94 2.06.94-2.06 2.06-.94-2.06-.94-.94-2.06-.94 2.06-2.06.94z\"/><path d=\"M17.41 7.96l-1.37-1.37c-.4-.4-.92-.59-1.43-.59-.52 0-1.04.2-1.43.59L10.3 9.45l-7.72 7.72c-.78.78-.78 2.05 0 2.83L4 21.41c.39.39.9.59 1.41.59.51 0 1.02-.2 1.41-.59l7.78-7.78 2.81-2.81c.8-.78.8-2.07 0-2.86zM5.41 20L4 18.59l7.72-7.72 1.47 1.35L5.41 20z\"/>\n",
       "  </svg>\n",
       "      </button>\n",
       "      \n",
       "  <style>\n",
       "    .colab-df-container {\n",
       "      display:flex;\n",
       "      flex-wrap:wrap;\n",
       "      gap: 12px;\n",
       "    }\n",
       "\n",
       "    .colab-df-convert {\n",
       "      background-color: #E8F0FE;\n",
       "      border: none;\n",
       "      border-radius: 50%;\n",
       "      cursor: pointer;\n",
       "      display: none;\n",
       "      fill: #1967D2;\n",
       "      height: 32px;\n",
       "      padding: 0 0 0 0;\n",
       "      width: 32px;\n",
       "    }\n",
       "\n",
       "    .colab-df-convert:hover {\n",
       "      background-color: #E2EBFA;\n",
       "      box-shadow: 0px 1px 2px rgba(60, 64, 67, 0.3), 0px 1px 3px 1px rgba(60, 64, 67, 0.15);\n",
       "      fill: #174EA6;\n",
       "    }\n",
       "\n",
       "    [theme=dark] .colab-df-convert {\n",
       "      background-color: #3B4455;\n",
       "      fill: #D2E3FC;\n",
       "    }\n",
       "\n",
       "    [theme=dark] .colab-df-convert:hover {\n",
       "      background-color: #434B5C;\n",
       "      box-shadow: 0px 1px 3px 1px rgba(0, 0, 0, 0.15);\n",
       "      filter: drop-shadow(0px 1px 2px rgba(0, 0, 0, 0.3));\n",
       "      fill: #FFFFFF;\n",
       "    }\n",
       "  </style>\n",
       "\n",
       "      <script>\n",
       "        const buttonEl =\n",
       "          document.querySelector('#df-cf716883-2492-4c91-9717-7460b6450415 button.colab-df-convert');\n",
       "        buttonEl.style.display =\n",
       "          google.colab.kernel.accessAllowed ? 'block' : 'none';\n",
       "\n",
       "        async function convertToInteractive(key) {\n",
       "          const element = document.querySelector('#df-cf716883-2492-4c91-9717-7460b6450415');\n",
       "          const dataTable =\n",
       "            await google.colab.kernel.invokeFunction('convertToInteractive',\n",
       "                                                     [key], {});\n",
       "          if (!dataTable) return;\n",
       "\n",
       "          const docLinkHtml = 'Like what you see? Visit the ' +\n",
       "            '<a target=\"_blank\" href=https://colab.research.google.com/notebooks/data_table.ipynb>data table notebook</a>'\n",
       "            + ' to learn more about interactive tables.';\n",
       "          element.innerHTML = '';\n",
       "          dataTable['output_type'] = 'display_data';\n",
       "          await google.colab.output.renderOutput(dataTable, element);\n",
       "          const docLink = document.createElement('div');\n",
       "          docLink.innerHTML = docLinkHtml;\n",
       "          element.appendChild(docLink);\n",
       "        }\n",
       "      </script>\n",
       "    </div>\n",
       "  </div>\n",
       "  "
      ],
      "text/plain": [
       "              Player  MP   Min  Goals  Assists  CrdY  CrdR  count        Comp  \\\n",
       "0   Yunis Abdelhamid  34  2983   0.06     0.00  0.15  0.03    253     Ligue 1   \n",
       "1  Salis Abdul Samed  31  2462   0.04     0.00  0.44  0.11   1065     Ligue 1   \n",
       "2    Laurent Abergel  34  2956   0.00     0.06  0.27  0.00     25     Ligue 1   \n",
       "3     Dickson Abiama  24   726   0.00     0.12  0.37  0.00   1937  Bundesliga   \n",
       "4   Francesco Acerbi  30  2536   0.14     0.00  0.07  0.04    941     Serie A   \n",
       "\n",
       "   Shots  ...  age  best_position                  club               name  \\\n",
       "0   0.54  ...   33             CB        Stade de Reims   Yunis Abdelhamid   \n",
       "1   0.66  ...   21            CDM      Clermont Foot 63  Salis Abdul Samed   \n",
       "2   0.91  ...   28            CDM            FC Lorient    Laurent Abergel   \n",
       "3   2.22  ...   22             ST  SpVgg Greuther Fürth     Dickson Abiama   \n",
       "4   0.57  ...   33             CB                 Lazio   Francesco Acerbi   \n",
       "\n",
       "   overall  position  potential  preferred_foot   value  wage  \n",
       "0       76       LCB         76            Left   €3.6M  €23K  \n",
       "1       70       SUB         75           Right   €2.2M   €7K  \n",
       "2       75       CDM         75           Right   €4.9M  €18K  \n",
       "3       68       SUB         76           Right   €2.7M   €9K  \n",
       "4       83       LCB         83            Left  €17.5M  €75K  \n",
       "\n",
       "[5 rows x 56 columns]"
      ]
     },
     "execution_count": 9,
     "metadata": {},
     "output_type": "execute_result"
    }
   ],
   "source": [
    "final_data = pd.merge(data_sta, data_index, on='count')\n",
    "final_data.head()"
   ]
  },
  {
   "cell_type": "markdown",
   "metadata": {
    "id": "vpe4RfRGo5He"
   },
   "source": [
    "# **4. Check missing values**"
   ]
  },
  {
   "cell_type": "code",
   "execution_count": null,
   "metadata": {
    "id": "to1ojtqto8Xo"
   },
   "outputs": [],
   "source": [
    "data = final_data.copy()"
   ]
  },
  {
   "cell_type": "code",
   "execution_count": null,
   "metadata": {
    "colab": {
     "base_uri": "https://localhost:8080/"
    },
    "executionInfo": {
     "elapsed": 17,
     "status": "ok",
     "timestamp": 1658053001895,
     "user": {
      "displayName": "trung nguyen nho",
      "userId": "16795874157616798231"
     },
     "user_tz": -420
    },
    "id": "8EGq2_2NpE89",
    "outputId": "0978a106-838b-43e8-a2b2-a78c24533593"
   },
   "outputs": [
    {
     "data": {
      "text/plain": [
       "Series([], dtype: int64)"
      ]
     },
     "execution_count": 11,
     "metadata": {},
     "output_type": "execute_result"
    }
   ],
   "source": [
    "# check missing values\n",
    "data.isnull().sum()[data.isnull().sum() != 0]"
   ]
  },
  {
   "cell_type": "markdown",
   "metadata": {
    "id": "icnqSIcJpGtf"
   },
   "source": [
    "=> we don't have any missing values"
   ]
  },
  {
   "cell_type": "markdown",
   "metadata": {
    "id": "o6LjXDDBpOqX"
   },
   "source": [
    "# **5. Processing with position and best_position**"
   ]
  },
  {
   "cell_type": "code",
   "execution_count": null,
   "metadata": {
    "colab": {
     "base_uri": "https://localhost:8080/"
    },
    "executionInfo": {
     "elapsed": 15,
     "status": "ok",
     "timestamp": 1658053001895,
     "user": {
      "displayName": "trung nguyen nho",
      "userId": "16795874157616798231"
     },
     "user_tz": -420
    },
    "id": "0WcAiXGIpQYp",
    "outputId": "a4096cfe-d05e-46f4-e78f-eb670f692101"
   },
   "outputs": [
    {
     "data": {
      "text/plain": [
       "array(['LCB', 'SUB', 'CDM', 'LB', 'RES', 'LM', 'LDM', 'RB', 'RCB', 'LS',\n",
       "       'LCM', 'RCM', 'RM', 'LWB', 'RDM', 'ST', 'CM', 'RW', 'RS', 'GK',\n",
       "       'CAM', 'RWB', 'RF', 'LF', 'CB', 'LAM', 'CF', 'LW', 'RAM'],\n",
       "      dtype=object)"
      ]
     },
     "execution_count": 12,
     "metadata": {},
     "output_type": "execute_result"
    }
   ],
   "source": [
    "# see position of players\n",
    "data['position'].unique()"
   ]
  },
  {
   "cell_type": "code",
   "execution_count": null,
   "metadata": {
    "colab": {
     "base_uri": "https://localhost:8080/"
    },
    "executionInfo": {
     "elapsed": 490,
     "status": "ok",
     "timestamp": 1658053002371,
     "user": {
      "displayName": "trung nguyen nho",
      "userId": "16795874157616798231"
     },
     "user_tz": -420
    },
    "id": "q_Za6FQupSEQ",
    "outputId": "5b6a4b3e-3532-4e79-eb1e-b4ce2e18356a"
   },
   "outputs": [
    {
     "name": "stderr",
     "output_type": "stream",
     "text": [
      "/usr/local/lib/python3.7/dist-packages/ipykernel_launcher.py:4: SettingWithCopyWarning: \n",
      "A value is trying to be set on a copy of a slice from a DataFrame\n",
      "\n",
      "See the caveats in the documentation: https://pandas.pydata.org/pandas-docs/stable/user_guide/indexing.html#returning-a-view-versus-a-copy\n",
      "  after removing the cwd from sys.path.\n"
     ]
    }
   ],
   "source": [
    "# we replace 'SUB' and 'RES' position by best_positon\n",
    "for i in range(len(data['position'])):\n",
    "    if data['position'][i] == 'SUB' or data['position'][i] == 'RES':\n",
    "        data['position'][i] = data['best_position'][i]"
   ]
  },
  {
   "cell_type": "code",
   "execution_count": null,
   "metadata": {
    "id": "rG_I9FSypUvZ"
   },
   "outputs": [],
   "source": [
    "# we make 1 column with only 4 positions in common : goalkeeper, defender, midfielder, striker\n",
    "position_common = []\n",
    "for i in data['position']:\n",
    "    if i in ['GK']:\n",
    "        position_common.append(\"goalkeeper\")\n",
    "    elif i in ['LCB', 'LB', 'RB', 'RCB', 'LWB', 'CB','RWB']:\n",
    "        position_common.append(\"defender\")\n",
    "    elif i in ['CDM', 'CAM', 'LM', 'CM', 'LDM', 'LCM', 'RM', 'RCM', 'RDM', 'LAM', 'RAM']:\n",
    "        position_common.append(\"midfielder\")\n",
    "    elif i in ['ST', 'LS','RW', 'RS', 'RF', 'LW', 'LF', 'CF' ]:\n",
    "        position_common.append(\"striker\")\n",
    "    else:\n",
    "        continue\n",
    "\n",
    "# add position_column into data tables\n",
    "data['position common'] = position_common"
   ]
  },
  {
   "cell_type": "markdown",
   "metadata": {
    "id": "1Yak14T9pcMQ"
   },
   "source": [
    "# **6. Processing with value and wage:**"
   ]
  },
  {
   "cell_type": "code",
   "execution_count": null,
   "metadata": {
    "id": "eXwJyViCpd89"
   },
   "outputs": [],
   "source": [
    "market_value = []\n",
    "for i in range(len(data['value'])):\n",
    "    if data['value'][i][-1] == 'K':\n",
    "        market_value.append( float(data['value'][i][1 : -1]) * 1_000)\n",
    "    else:\n",
    "        market_value.append( float(data['value'][i][1 : -1]) * 1_000_000)\n",
    "data['market value'] = market_value\n",
    "data = data.drop(columns = ['value'])"
   ]
  },
  {
   "cell_type": "code",
   "execution_count": null,
   "metadata": {
    "id": "NIWqs-QgpiEN"
   },
   "outputs": [],
   "source": [
    "wage_value = []\n",
    "for i in range(len(data['wage'])):\n",
    "    if data['wage'][i][-1] == 'K':\n",
    "        wage_value.append( float(data['wage'][i][1 : -1]) * 1_000)\n",
    "    else:\n",
    "        wage_value.append(float(data['wage'][i][1:]))\n",
    "data['wage value'] = wage_value\n",
    "data = data.drop(columns = ['wage'])"
   ]
  },
  {
   "cell_type": "code",
   "execution_count": null,
   "metadata": {
    "colab": {
     "base_uri": "https://localhost:8080/",
     "height": 421
    },
    "executionInfo": {
     "elapsed": 8,
     "status": "ok",
     "timestamp": 1658053002373,
     "user": {
      "displayName": "trung nguyen nho",
      "userId": "16795874157616798231"
     },
     "user_tz": -420
    },
    "id": "M8ur7KmjpkH7",
    "outputId": "6366bd17-8352-4e40-dcf5-b4f93d1e3e5a"
   },
   "outputs": [
    {
     "data": {
      "text/html": [
       "\n",
       "  <div id=\"df-b3ae661c-de6c-4fb7-9f16-f863962d0132\">\n",
       "    <div class=\"colab-df-container\">\n",
       "      <div>\n",
       "<style scoped>\n",
       "    .dataframe tbody tr th:only-of-type {\n",
       "        vertical-align: middle;\n",
       "    }\n",
       "\n",
       "    .dataframe tbody tr th {\n",
       "        vertical-align: top;\n",
       "    }\n",
       "\n",
       "    .dataframe thead th {\n",
       "        text-align: right;\n",
       "    }\n",
       "</style>\n",
       "<table border=\"1\" class=\"dataframe\">\n",
       "  <thead>\n",
       "    <tr style=\"text-align: right;\">\n",
       "      <th></th>\n",
       "      <th>Player</th>\n",
       "      <th>MP</th>\n",
       "      <th>Min</th>\n",
       "      <th>Goals</th>\n",
       "      <th>Assists</th>\n",
       "      <th>CrdY</th>\n",
       "      <th>CrdR</th>\n",
       "      <th>count</th>\n",
       "      <th>Comp</th>\n",
       "      <th>Shots</th>\n",
       "      <th>...</th>\n",
       "      <th>best_position</th>\n",
       "      <th>club</th>\n",
       "      <th>name</th>\n",
       "      <th>overall</th>\n",
       "      <th>position</th>\n",
       "      <th>potential</th>\n",
       "      <th>preferred_foot</th>\n",
       "      <th>position common</th>\n",
       "      <th>market value</th>\n",
       "      <th>wage value</th>\n",
       "    </tr>\n",
       "  </thead>\n",
       "  <tbody>\n",
       "    <tr>\n",
       "      <th>0</th>\n",
       "      <td>Yunis Abdelhamid</td>\n",
       "      <td>34</td>\n",
       "      <td>2983</td>\n",
       "      <td>0.06</td>\n",
       "      <td>0.00</td>\n",
       "      <td>0.15</td>\n",
       "      <td>0.03</td>\n",
       "      <td>253</td>\n",
       "      <td>Ligue 1</td>\n",
       "      <td>0.54</td>\n",
       "      <td>...</td>\n",
       "      <td>CB</td>\n",
       "      <td>Stade de Reims</td>\n",
       "      <td>Yunis Abdelhamid</td>\n",
       "      <td>76</td>\n",
       "      <td>LCB</td>\n",
       "      <td>76</td>\n",
       "      <td>Left</td>\n",
       "      <td>defender</td>\n",
       "      <td>3600000.0</td>\n",
       "      <td>23000.0</td>\n",
       "    </tr>\n",
       "    <tr>\n",
       "      <th>1</th>\n",
       "      <td>Salis Abdul Samed</td>\n",
       "      <td>31</td>\n",
       "      <td>2462</td>\n",
       "      <td>0.04</td>\n",
       "      <td>0.00</td>\n",
       "      <td>0.44</td>\n",
       "      <td>0.11</td>\n",
       "      <td>1065</td>\n",
       "      <td>Ligue 1</td>\n",
       "      <td>0.66</td>\n",
       "      <td>...</td>\n",
       "      <td>CDM</td>\n",
       "      <td>Clermont Foot 63</td>\n",
       "      <td>Salis Abdul Samed</td>\n",
       "      <td>70</td>\n",
       "      <td>CDM</td>\n",
       "      <td>75</td>\n",
       "      <td>Right</td>\n",
       "      <td>midfielder</td>\n",
       "      <td>2200000.0</td>\n",
       "      <td>7000.0</td>\n",
       "    </tr>\n",
       "    <tr>\n",
       "      <th>2</th>\n",
       "      <td>Laurent Abergel</td>\n",
       "      <td>34</td>\n",
       "      <td>2956</td>\n",
       "      <td>0.00</td>\n",
       "      <td>0.06</td>\n",
       "      <td>0.27</td>\n",
       "      <td>0.00</td>\n",
       "      <td>25</td>\n",
       "      <td>Ligue 1</td>\n",
       "      <td>0.91</td>\n",
       "      <td>...</td>\n",
       "      <td>CDM</td>\n",
       "      <td>FC Lorient</td>\n",
       "      <td>Laurent Abergel</td>\n",
       "      <td>75</td>\n",
       "      <td>CDM</td>\n",
       "      <td>75</td>\n",
       "      <td>Right</td>\n",
       "      <td>midfielder</td>\n",
       "      <td>4900000.0</td>\n",
       "      <td>18000.0</td>\n",
       "    </tr>\n",
       "    <tr>\n",
       "      <th>3</th>\n",
       "      <td>Dickson Abiama</td>\n",
       "      <td>24</td>\n",
       "      <td>726</td>\n",
       "      <td>0.00</td>\n",
       "      <td>0.12</td>\n",
       "      <td>0.37</td>\n",
       "      <td>0.00</td>\n",
       "      <td>1937</td>\n",
       "      <td>Bundesliga</td>\n",
       "      <td>2.22</td>\n",
       "      <td>...</td>\n",
       "      <td>ST</td>\n",
       "      <td>SpVgg Greuther Fürth</td>\n",
       "      <td>Dickson Abiama</td>\n",
       "      <td>68</td>\n",
       "      <td>ST</td>\n",
       "      <td>76</td>\n",
       "      <td>Right</td>\n",
       "      <td>striker</td>\n",
       "      <td>2700000.0</td>\n",
       "      <td>9000.0</td>\n",
       "    </tr>\n",
       "    <tr>\n",
       "      <th>4</th>\n",
       "      <td>Francesco Acerbi</td>\n",
       "      <td>30</td>\n",
       "      <td>2536</td>\n",
       "      <td>0.14</td>\n",
       "      <td>0.00</td>\n",
       "      <td>0.07</td>\n",
       "      <td>0.04</td>\n",
       "      <td>941</td>\n",
       "      <td>Serie A</td>\n",
       "      <td>0.57</td>\n",
       "      <td>...</td>\n",
       "      <td>CB</td>\n",
       "      <td>Lazio</td>\n",
       "      <td>Francesco Acerbi</td>\n",
       "      <td>83</td>\n",
       "      <td>LCB</td>\n",
       "      <td>83</td>\n",
       "      <td>Left</td>\n",
       "      <td>defender</td>\n",
       "      <td>17500000.0</td>\n",
       "      <td>75000.0</td>\n",
       "    </tr>\n",
       "  </tbody>\n",
       "</table>\n",
       "<p>5 rows × 57 columns</p>\n",
       "</div>\n",
       "      <button class=\"colab-df-convert\" onclick=\"convertToInteractive('df-b3ae661c-de6c-4fb7-9f16-f863962d0132')\"\n",
       "              title=\"Convert this dataframe to an interactive table.\"\n",
       "              style=\"display:none;\">\n",
       "        \n",
       "  <svg xmlns=\"http://www.w3.org/2000/svg\" height=\"24px\"viewBox=\"0 0 24 24\"\n",
       "       width=\"24px\">\n",
       "    <path d=\"M0 0h24v24H0V0z\" fill=\"none\"/>\n",
       "    <path d=\"M18.56 5.44l.94 2.06.94-2.06 2.06-.94-2.06-.94-.94-2.06-.94 2.06-2.06.94zm-11 1L8.5 8.5l.94-2.06 2.06-.94-2.06-.94L8.5 2.5l-.94 2.06-2.06.94zm10 10l.94 2.06.94-2.06 2.06-.94-2.06-.94-.94-2.06-.94 2.06-2.06.94z\"/><path d=\"M17.41 7.96l-1.37-1.37c-.4-.4-.92-.59-1.43-.59-.52 0-1.04.2-1.43.59L10.3 9.45l-7.72 7.72c-.78.78-.78 2.05 0 2.83L4 21.41c.39.39.9.59 1.41.59.51 0 1.02-.2 1.41-.59l7.78-7.78 2.81-2.81c.8-.78.8-2.07 0-2.86zM5.41 20L4 18.59l7.72-7.72 1.47 1.35L5.41 20z\"/>\n",
       "  </svg>\n",
       "      </button>\n",
       "      \n",
       "  <style>\n",
       "    .colab-df-container {\n",
       "      display:flex;\n",
       "      flex-wrap:wrap;\n",
       "      gap: 12px;\n",
       "    }\n",
       "\n",
       "    .colab-df-convert {\n",
       "      background-color: #E8F0FE;\n",
       "      border: none;\n",
       "      border-radius: 50%;\n",
       "      cursor: pointer;\n",
       "      display: none;\n",
       "      fill: #1967D2;\n",
       "      height: 32px;\n",
       "      padding: 0 0 0 0;\n",
       "      width: 32px;\n",
       "    }\n",
       "\n",
       "    .colab-df-convert:hover {\n",
       "      background-color: #E2EBFA;\n",
       "      box-shadow: 0px 1px 2px rgba(60, 64, 67, 0.3), 0px 1px 3px 1px rgba(60, 64, 67, 0.15);\n",
       "      fill: #174EA6;\n",
       "    }\n",
       "\n",
       "    [theme=dark] .colab-df-convert {\n",
       "      background-color: #3B4455;\n",
       "      fill: #D2E3FC;\n",
       "    }\n",
       "\n",
       "    [theme=dark] .colab-df-convert:hover {\n",
       "      background-color: #434B5C;\n",
       "      box-shadow: 0px 1px 3px 1px rgba(0, 0, 0, 0.15);\n",
       "      filter: drop-shadow(0px 1px 2px rgba(0, 0, 0, 0.3));\n",
       "      fill: #FFFFFF;\n",
       "    }\n",
       "  </style>\n",
       "\n",
       "      <script>\n",
       "        const buttonEl =\n",
       "          document.querySelector('#df-b3ae661c-de6c-4fb7-9f16-f863962d0132 button.colab-df-convert');\n",
       "        buttonEl.style.display =\n",
       "          google.colab.kernel.accessAllowed ? 'block' : 'none';\n",
       "\n",
       "        async function convertToInteractive(key) {\n",
       "          const element = document.querySelector('#df-b3ae661c-de6c-4fb7-9f16-f863962d0132');\n",
       "          const dataTable =\n",
       "            await google.colab.kernel.invokeFunction('convertToInteractive',\n",
       "                                                     [key], {});\n",
       "          if (!dataTable) return;\n",
       "\n",
       "          const docLinkHtml = 'Like what you see? Visit the ' +\n",
       "            '<a target=\"_blank\" href=https://colab.research.google.com/notebooks/data_table.ipynb>data table notebook</a>'\n",
       "            + ' to learn more about interactive tables.';\n",
       "          element.innerHTML = '';\n",
       "          dataTable['output_type'] = 'display_data';\n",
       "          await google.colab.output.renderOutput(dataTable, element);\n",
       "          const docLink = document.createElement('div');\n",
       "          docLink.innerHTML = docLinkHtml;\n",
       "          element.appendChild(docLink);\n",
       "        }\n",
       "      </script>\n",
       "    </div>\n",
       "  </div>\n",
       "  "
      ],
      "text/plain": [
       "              Player  MP   Min  Goals  Assists  CrdY  CrdR  count        Comp  \\\n",
       "0   Yunis Abdelhamid  34  2983   0.06     0.00  0.15  0.03    253     Ligue 1   \n",
       "1  Salis Abdul Samed  31  2462   0.04     0.00  0.44  0.11   1065     Ligue 1   \n",
       "2    Laurent Abergel  34  2956   0.00     0.06  0.27  0.00     25     Ligue 1   \n",
       "3     Dickson Abiama  24   726   0.00     0.12  0.37  0.00   1937  Bundesliga   \n",
       "4   Francesco Acerbi  30  2536   0.14     0.00  0.07  0.04    941     Serie A   \n",
       "\n",
       "   Shots  ...  best_position                  club               name  \\\n",
       "0   0.54  ...             CB        Stade de Reims   Yunis Abdelhamid   \n",
       "1   0.66  ...            CDM      Clermont Foot 63  Salis Abdul Samed   \n",
       "2   0.91  ...            CDM            FC Lorient    Laurent Abergel   \n",
       "3   2.22  ...             ST  SpVgg Greuther Fürth     Dickson Abiama   \n",
       "4   0.57  ...             CB                 Lazio   Francesco Acerbi   \n",
       "\n",
       "   overall  position  potential  preferred_foot  position common  \\\n",
       "0       76       LCB         76            Left         defender   \n",
       "1       70       CDM         75           Right       midfielder   \n",
       "2       75       CDM         75           Right       midfielder   \n",
       "3       68        ST         76           Right          striker   \n",
       "4       83       LCB         83            Left         defender   \n",
       "\n",
       "   market value  wage value  \n",
       "0     3600000.0     23000.0  \n",
       "1     2200000.0      7000.0  \n",
       "2     4900000.0     18000.0  \n",
       "3     2700000.0      9000.0  \n",
       "4    17500000.0     75000.0  \n",
       "\n",
       "[5 rows x 57 columns]"
      ]
     },
     "execution_count": 17,
     "metadata": {},
     "output_type": "execute_result"
    }
   ],
   "source": [
    "data.head()"
   ]
  },
  {
   "cell_type": "markdown",
   "metadata": {
    "id": "_pjdA5NIpxWI"
   },
   "source": [
    "# **7. Remove redundant columns**"
   ]
  },
  {
   "cell_type": "code",
   "execution_count": null,
   "metadata": {
    "id": "TJ8H8lCwp0Al"
   },
   "outputs": [],
   "source": [
    "data_processed = data.drop(columns = ['best_position', 'Player','club','position','count' ])"
   ]
  },
  {
   "cell_type": "code",
   "execution_count": null,
   "metadata": {
    "id": "Df4sl8wtp5Ia"
   },
   "outputs": [],
   "source": [
    "data_processed.to_csv(\"/content/drive/MyDrive/Colab Notebooks/machine learning project/processed data.csv\")"
   ]
  },
  {
   "cell_type": "code",
   "execution_count": null,
   "metadata": {
    "id": "3xvewGHIrZMZ"
   },
   "outputs": [],
   "source": []
  }
 ],
 "metadata": {
  "colab": {
   "authorship_tag": "ABX9TyNPO3qcaSdQBwUjWOJnRrKk",
   "mount_file_id": "1cKdieV-CXCMs63hxr_DmEHtU-YaOyS7d",
   "name": "2.Integration data and Data Cleaning.ipynb",
   "provenance": [],
   "toc_visible": true
  },
  "kernelspec": {
   "display_name": "Python 3",
   "language": "python",
   "name": "python3"
  },
  "language_info": {
   "codemirror_mode": {
    "name": "ipython",
    "version": 3
   },
   "file_extension": ".py",
   "mimetype": "text/x-python",
   "name": "python",
   "nbconvert_exporter": "python",
   "pygments_lexer": "ipython3",
   "version": "3.9.2"
  }
 },
 "nbformat": 4,
 "nbformat_minor": 1
}
