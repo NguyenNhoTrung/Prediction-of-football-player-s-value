{
 "cells": [
  {
   "cell_type": "markdown",
   "metadata": {
    "id": "2vhUsZN-wa8H"
   },
   "source": [
    "# 1.Import library and load data"
   ]
  },
  {
   "cell_type": "code",
   "execution_count": 1,
   "metadata": {
    "executionInfo": {
     "elapsed": 1404,
     "status": "ok",
     "timestamp": 1658211557031,
     "user": {
      "displayName": "trung nguyen nho",
      "userId": "16795874157616798231"
     },
     "user_tz": -420
    },
    "id": "Ixq2JzRDwfIz"
   },
   "outputs": [],
   "source": [
    "import pandas as pd\n",
    "import matplotlib.pyplot as plt\n",
    "import seaborn as sns\n",
    "import numpy as np \n",
    "\n",
    "from sklearn.model_selection import train_test_split\n",
    "\n",
    "from sklearn.metrics import mean_squared_error\n",
    "from sklearn.metrics import r2_score\n",
    "\n",
    "from xgboost import XGBRegressor"
   ]
  },
  {
   "cell_type": "code",
   "execution_count": 2,
   "metadata": {
    "executionInfo": {
     "elapsed": 6,
     "status": "ok",
     "timestamp": 1658211557032,
     "user": {
      "displayName": "trung nguyen nho",
      "userId": "16795874157616798231"
     },
     "user_tz": -420
    },
    "id": "URyK0XePwitQ"
   },
   "outputs": [],
   "source": [
    "result = pd.read_excel(\"Score models.xlsx\")"
   ]
  },
  {
   "cell_type": "code",
   "execution_count": 3,
   "metadata": {
    "colab": {
     "base_uri": "https://localhost:8080/",
     "height": 332
    },
    "executionInfo": {
     "elapsed": 6,
     "status": "ok",
     "timestamp": 1658211557032,
     "user": {
      "displayName": "trung nguyen nho",
      "userId": "16795874157616798231"
     },
     "user_tz": -420
    },
    "id": "Qyqzg3vwwl_z",
    "outputId": "f3ff114c-02d8-4546-c2b6-bb7bed2a41e0"
   },
   "outputs": [
    {
     "data": {
      "text/html": [
       "<div>\n",
       "<style scoped>\n",
       "    .dataframe tbody tr th:only-of-type {\n",
       "        vertical-align: middle;\n",
       "    }\n",
       "\n",
       "    .dataframe tbody tr th {\n",
       "        vertical-align: top;\n",
       "    }\n",
       "\n",
       "    .dataframe thead th {\n",
       "        text-align: right;\n",
       "    }\n",
       "</style>\n",
       "<table border=\"1\" class=\"dataframe\">\n",
       "  <thead>\n",
       "    <tr style=\"text-align: right;\">\n",
       "      <th></th>\n",
       "      <th>Name of models</th>\n",
       "      <th>RMSE</th>\n",
       "      <th>R2 score</th>\n",
       "    </tr>\n",
       "  </thead>\n",
       "  <tbody>\n",
       "    <tr>\n",
       "      <th>0</th>\n",
       "      <td>Lasso</td>\n",
       "      <td>0.221936</td>\n",
       "      <td>0.967581</td>\n",
       "    </tr>\n",
       "    <tr>\n",
       "      <th>1</th>\n",
       "      <td>KNN</td>\n",
       "      <td>0.389714</td>\n",
       "      <td>0.867664</td>\n",
       "    </tr>\n",
       "    <tr>\n",
       "      <th>2</th>\n",
       "      <td>Ridge</td>\n",
       "      <td>0.226031</td>\n",
       "      <td>0.966999</td>\n",
       "    </tr>\n",
       "    <tr>\n",
       "      <th>3</th>\n",
       "      <td>Decision Tree</td>\n",
       "      <td>0.195501</td>\n",
       "      <td>0.975741</td>\n",
       "    </tr>\n",
       "    <tr>\n",
       "      <th>4</th>\n",
       "      <td>Random Forest</td>\n",
       "      <td>0.110256</td>\n",
       "      <td>0.992098</td>\n",
       "    </tr>\n",
       "    <tr>\n",
       "      <th>5</th>\n",
       "      <td>Adaboost</td>\n",
       "      <td>0.127482</td>\n",
       "      <td>0.989428</td>\n",
       "    </tr>\n",
       "    <tr>\n",
       "      <th>6</th>\n",
       "      <td>ANN</td>\n",
       "      <td>0.650466</td>\n",
       "      <td>0.773704</td>\n",
       "    </tr>\n",
       "    <tr>\n",
       "      <th>7</th>\n",
       "      <td>XGBoost</td>\n",
       "      <td>0.070138</td>\n",
       "      <td>0.996874</td>\n",
       "    </tr>\n",
       "    <tr>\n",
       "      <th>8</th>\n",
       "      <td>LightGBM</td>\n",
       "      <td>0.097354</td>\n",
       "      <td>0.993988</td>\n",
       "    </tr>\n",
       "    <tr>\n",
       "      <th>9</th>\n",
       "      <td>Stacking</td>\n",
       "      <td>0.078055</td>\n",
       "      <td>0.996202</td>\n",
       "    </tr>\n",
       "  </tbody>\n",
       "</table>\n",
       "</div>"
      ],
      "text/plain": [
       "  Name of models      RMSE  R2 score\n",
       "0          Lasso  0.221936  0.967581\n",
       "1            KNN  0.389714  0.867664\n",
       "2          Ridge  0.226031  0.966999\n",
       "3  Decision Tree  0.195501  0.975741\n",
       "4  Random Forest  0.110256  0.992098\n",
       "5       Adaboost  0.127482  0.989428\n",
       "6            ANN  0.650466  0.773704\n",
       "7        XGBoost  0.070138  0.996874\n",
       "8       LightGBM  0.097354  0.993988\n",
       "9       Stacking  0.078055  0.996202"
      ]
     },
     "execution_count": 3,
     "metadata": {},
     "output_type": "execute_result"
    }
   ],
   "source": [
    "result"
   ]
  },
  {
   "cell_type": "markdown",
   "metadata": {
    "id": "ylLfLSL3z4nz"
   },
   "source": [
    "# **2.Summary result**"
   ]
  },
  {
   "cell_type": "code",
   "execution_count": 4,
   "metadata": {
    "colab": {
     "base_uri": "https://localhost:8080/",
     "height": 497
    },
    "executionInfo": {
     "elapsed": 884,
     "status": "ok",
     "timestamp": 1658211557912,
     "user": {
      "displayName": "trung nguyen nho",
      "userId": "16795874157616798231"
     },
     "user_tz": -420
    },
    "id": "a3yBNlaJwxd6",
    "outputId": "e52d0f25-9d95-42ac-a0f2-7274b6b58698"
   },
   "outputs": [
    {
     "data": {
      "image/png": "[encoded data removed]",
      "text/plain": [
       "<Figure size 864x576 with 1 Axes>"
      ]
     },
     "metadata": {
      "needs_background": "light"
     },
     "output_type": "display_data"
    }
   ],
   "source": [
    "# barplot for root mean squared error of 9 models\n",
    "plt.figure(figsize = (12,8))\n",
    "sns.barplot(x = 'RMSE', y = 'Name of models' , data = result.sort_values('RMSE'));"
   ]
  },
  {
   "cell_type": "code",
   "execution_count": 5,
   "metadata": {
    "colab": {
     "base_uri": "https://localhost:8080/",
     "height": 497
    },
    "executionInfo": {
     "elapsed": 8,
     "status": "ok",
     "timestamp": 1658211557913,
     "user": {
      "displayName": "trung nguyen nho",
      "userId": "16795874157616798231"
     },
     "user_tz": -420
    },
    "id": "XJ0lGxyAyQtX",
    "outputId": "54a6a5ea-bb95-4887-aa6b-c548749af777"
   },
   "outputs": [
    {
     "data": {
      "image/png": "[encoded data removed]",
      "text/plain": [
       "<Figure size 864x576 with 1 Axes>"
      ]
     },
     "metadata": {
      "needs_background": "light"
     },
     "output_type": "display_data"
    }
   ],
   "source": [
    "# barplot for r2_score of 9 models\n",
    "plt.figure(figsize = (12,8))\n",
    "sns.barplot(x = 'R2 score', y = 'Name of models' , data = result.sort_values('R2 score'));"
   ]
  },
  {
   "cell_type": "markdown",
   "metadata": {
    "id": "_lOCBQIFzfiC"
   },
   "source": [
    "=> we can see that: XGBoost has has the smallest RMSE and the largest R2_score \n",
    "=> XGBoost is best model "
   ]
  },
  {
   "cell_type": "markdown",
   "metadata": {
    "id": "aVrJOhnp0Ty6"
   },
   "source": [
    "# **3.Analysis with best model**"
   ]
  },
  {
   "cell_type": "markdown",
   "metadata": {
    "id": "miM52bzh1F4z"
   },
   "source": [
    "## 1.Training with best model and its best parameter"
   ]
  },
  {
   "cell_type": "code",
   "execution_count": 6,
   "metadata": {
    "colab": {
     "base_uri": "https://localhost:8080/"
    },
    "executionInfo": {
     "elapsed": 4976,
     "status": "ok",
     "timestamp": 1658211562882,
     "user": {
      "displayName": "trung nguyen nho",
      "userId": "16795874157616798231"
     },
     "user_tz": -420
    },
    "id": "rrpxysja0acU",
    "outputId": "e6715601-035c-43b4-9750-34d08d6a766b"
   },
   "outputs": [
    {
     "name": "stdout",
     "output_type": "stream",
     "text": [
      "[06:19:16] WARNING: /workspace/src/objective/regression_obj.cu:152: reg:linear is now deprecated in favor of reg:squarederror.\n",
      "Root mean squared 0.07013753747205126\n",
      "R2-scored  0.9968735027541525\n"
     ]
    }
   ],
   "source": [
    "data = pd.read_csv(\"/content/drive/MyDrive/Colab Notebooks/machine learning project/processed data.csv\")\n",
    "data = data.drop(columns = ['Unnamed: 0'])\n",
    "\n",
    "# Comp = name of league\n",
    "data['Comp'].replace(data['Comp'].unique(),[1, 3, 2, 4, 5], inplace=True)\n",
    "# drop name column and preferred_foot\n",
    "data = data.drop(columns = ['name','preferred_foot'])\n",
    "\n",
    "#convert the categorical variables to dummies\n",
    "data = pd.get_dummies(data) \n",
    "# log tranformation for market vakue\n",
    "data['market value'] = np.log(data['market value'])\n",
    "\n",
    "data_build = data.copy()\n",
    "y = data_build['market value']\n",
    "x = data_build.drop(columns =['market value'])\n",
    "x_train, x_test, y_train, y_test = train_test_split(x,y , test_size = 0.33, random_state = 3 )\n",
    "\n",
    "#  Training model with hyperparameter tuning\n",
    "model = XGBRegressor(n_estimators = 2000, learning_rate = 0.03, gamma = 0.0, max_depth = 3  )\n",
    "model.fit(x_train, y_train)\n",
    "y_pre = model.predict(x_test)\n",
    "print('Root mean squared' ,(mean_squared_error(y_pre,y_test )**(1/2)))\n",
    "print('R2-scored ', r2_score(y_pre, y_test))"
   ]
  },
  {
   "cell_type": "markdown",
   "metadata": {
    "id": "5P5slrte2LEI"
   },
   "source": [
    "## 2. Evaluation with actual values"
   ]
  },
  {
   "cell_type": "markdown",
   "metadata": {
    "id": "ltAyInu-2SPu"
   },
   "source": [
    "Because we use log transformation technique for market value variables, so we need to evaluate actual values with best model"
   ]
  },
  {
   "cell_type": "code",
   "execution_count": 7,
   "metadata": {
    "executionInfo": {
     "elapsed": 12,
     "status": "ok",
     "timestamp": 1658211562883,
     "user": {
      "displayName": "trung nguyen nho",
      "userId": "16795874157616798231"
     },
     "user_tz": -420
    },
    "id": "09kCeTuM2kj4"
   },
   "outputs": [],
   "source": [
    "y_actual = np.exp(y_test.values)\n",
    "y_predicted_for_actual = np.exp(y_pre)\n"
   ]
  },
  {
   "cell_type": "code",
   "execution_count": 8,
   "metadata": {
    "colab": {
     "base_uri": "https://localhost:8080/"
    },
    "executionInfo": {
     "elapsed": 11,
     "status": "ok",
     "timestamp": 1658211562883,
     "user": {
      "displayName": "trung nguyen nho",
      "userId": "16795874157616798231"
     },
     "user_tz": -420
    },
    "id": "V_slcr1A2rVO",
    "outputId": "abc107f6-3d4a-40a5-fbb0-d73ea4b72f76"
   },
   "outputs": [
    {
     "name": "stdout",
     "output_type": "stream",
     "text": [
      "Root mean squared error :  1373136.7151043897\n",
      "R2-score :   0.9940817312005764\n"
     ]
    }
   ],
   "source": [
    "# mean squared error and R2 score for actual values and predicted values\n",
    "\n",
    "print('Root mean squared error : ' ,(mean_squared_error(y_actual, y_predicted_for_actual )**(1/2)))\n",
    "print('R2-score :  ', r2_score(y_actual, y_predicted_for_actual))"
   ]
  },
  {
   "cell_type": "code",
   "execution_count": 9,
   "metadata": {
    "colab": {
     "base_uri": "https://localhost:8080/",
     "height": 290
    },
    "executionInfo": {
     "elapsed": 11,
     "status": "ok",
     "timestamp": 1658211562884,
     "user": {
      "displayName": "trung nguyen nho",
      "userId": "16795874157616798231"
     },
     "user_tz": -420
    },
    "id": "ttWN4B303Mz4",
    "outputId": "703df3f3-552e-476e-907e-94207c8ebf4a"
   },
   "outputs": [
    {
     "data": {
      "image/png": "[encoded data removed]",
      "text/plain": [
       "<Figure size 432x288 with 1 Axes>"
      ]
     },
     "metadata": {
      "needs_background": "light"
     },
     "output_type": "display_data"
    }
   ],
   "source": [
    "# plot the error between actual values and predicted values\n",
    "error = abs(y_predicted_for_actual - y_actual)\n",
    "error = np.sort(error)\n",
    "plt.plot(range(error.shape[0]), error, label=\"Predict\")\n",
    "plt.xlabel(\"number of sample\")\n",
    "plt.ylabel('error')\n",
    "plt.show()"
   ]
  },
  {
   "cell_type": "markdown",
   "metadata": {
    "id": "dcr5u-m6BAZD"
   },
   "source": [
    " we can see that : we have approximately 610 player prices that the error of its prediction < 2 million euro. "
   ]
  },
  {
   "cell_type": "markdown",
   "metadata": {
    "id": "0zn1thbpCRJV"
   },
   "source": [
    "Finally , I use a new metric to calculate the percentage of error of player prices:"
   ]
  },
  {
   "cell_type": "markdown",
   "metadata": {
    "id": "JHPc72i4DLFg"
   },
   "source": [
    "![293471341_365973655609126_6884198067946229633_n.png](data:image/png;base64,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)"
   ]
  },
  {
   "cell_type": "code",
   "execution_count": 10,
   "metadata": {
    "colab": {
     "base_uri": "https://localhost:8080/"
    },
    "executionInfo": {
     "elapsed": 10,
     "status": "ok",
     "timestamp": 1658211562884,
     "user": {
      "displayName": "trung nguyen nho",
      "userId": "16795874157616798231"
     },
     "user_tz": -420
    },
    "id": "SR657KZlDNuN",
    "outputId": "642fe489-c37c-4a0b-fa4e-6c0a6c23e627"
   },
   "outputs": [
    {
     "name": "stdout",
     "output_type": "stream",
     "text": [
      "percentage of error of player prices :  5.424107721238021 %\n"
     ]
    }
   ],
   "source": [
    "error = abs(y_predicted_for_actual - y_actual)\n",
    "percet_each_layer = error / y_actual\n",
    "percent = sum(percet_each_layer) / len(percet_each_layer)* 100\n",
    "print('percentage of error of player prices : ', percent ,'%')"
   ]
  },
  {
   "cell_type": "markdown",
   "metadata": {
    "id": "dUT1f_XZEMnB"
   },
   "source": [
    "=> it means that : If a player is really worth 100 million euros, our best model would predict that player's value between 100 - 5.4 million euros to 100 + 5.4 million euros"
   ]
  },
  {
   "cell_type": "code",
   "execution_count": 10,
   "metadata": {
    "executionInfo": {
     "elapsed": 9,
     "status": "ok",
     "timestamp": 1658211562885,
     "user": {
      "displayName": "trung nguyen nho",
      "userId": "16795874157616798231"
     },
     "user_tz": -420
    },
    "id": "ira9Hu4HErd0"
   },
   "outputs": [],
   "source": []
  }
 ],
 "metadata": {
  "colab": {
   "authorship_tag": "ABX9TyPIFpdyfb91h1IThFKWUEcR",
   "mount_file_id": "1lm5d3vtv_argaW_cOfLnQBPIehfVsfXR",
   "name": "5.Evaluation models.ipynb",
   "provenance": [],
   "toc_visible": true
  },
  "kernelspec": {
   "display_name": "Python 3",
   "language": "python",
   "name": "python3"
  },
  "language_info": {
   "codemirror_mode": {
    "name": "ipython",
    "version": 3
   },
   "file_extension": ".py",
   "mimetype": "text/x-python",
   "name": "python",
   "nbconvert_exporter": "python",
   "pygments_lexer": "ipython3",
   "version": "3.9.2"
  }
 },
 "nbformat": 4,
 "nbformat_minor": 1
}
